{
 "cells": [
  {
   "cell_type": "code",
   "execution_count": 1,
   "metadata": {},
   "outputs": [],
   "source": [
    "import pandas as pd\n",
    "import numpy as np\n",
    "import matplotlib.pyplot as plt\n",
    "import seaborn as sns\n",
    "import re\n",
    "import os\n",
    "import matplotlib.font_manager as font_manager\n",
    "from datetime import datetime\n",
    "\n",
    "import warnings\n",
    "warnings.filterwarnings(\"ignore\")"
   ]
  },
  {
   "cell_type": "code",
   "execution_count": 8,
   "metadata": {},
   "outputs": [
    {
     "data": {
      "text/html": [
       "<div>\n",
       "<style scoped>\n",
       "    .dataframe tbody tr th:only-of-type {\n",
       "        vertical-align: middle;\n",
       "    }\n",
       "\n",
       "    .dataframe tbody tr th {\n",
       "        vertical-align: top;\n",
       "    }\n",
       "\n",
       "    .dataframe thead th {\n",
       "        text-align: right;\n",
       "    }\n",
       "</style>\n",
       "<table border=\"1\" class=\"dataframe\">\n",
       "  <thead>\n",
       "    <tr style=\"text-align: right;\">\n",
       "      <th></th>\n",
       "      <th>Code1</th>\n",
       "      <th>Code2</th>\n",
       "      <th>Code3</th>\n",
       "      <th>Date measured</th>\n",
       "      <th>Temperature</th>\n",
       "      <th>Humidity</th>\n",
       "      <th>901.398183</th>\n",
       "      <th>905.331226</th>\n",
       "      <th>909.259927</th>\n",
       "      <th>913.184288</th>\n",
       "      <th>...</th>\n",
       "      <th>1673.98141</th>\n",
       "      <th>1676.942091</th>\n",
       "      <th>1679.898431</th>\n",
       "      <th>1682.85043</th>\n",
       "      <th>1685.798089</th>\n",
       "      <th>1688.741406</th>\n",
       "      <th>1691.680383</th>\n",
       "      <th>1694.615018</th>\n",
       "      <th>1697.545313</th>\n",
       "      <th>1701.44562</th>\n",
       "    </tr>\n",
       "  </thead>\n",
       "  <tbody>\n",
       "    <tr>\n",
       "      <th>0</th>\n",
       "      <td>Dữ lieu do NIR - 2022-06-23</td>\n",
       "      <td>00893_36</td>\n",
       "      <td>Hadanard1_100800_20220623_141053.csv</td>\n",
       "      <td>6/23/2022 14:10</td>\n",
       "      <td>34.29</td>\n",
       "      <td>85.91</td>\n",
       "      <td>0.830749</td>\n",
       "      <td>0.807264</td>\n",
       "      <td>0.816415</td>\n",
       "      <td>0.812683</td>\n",
       "      <td>...</td>\n",
       "      <td>-0.172542</td>\n",
       "      <td>-0.1899</td>\n",
       "      <td>-0.200437</td>\n",
       "      <td>-0.196828</td>\n",
       "      <td>-0.17931</td>\n",
       "      <td>-0.16928</td>\n",
       "      <td>-0.156739</td>\n",
       "      <td>-0.154597</td>\n",
       "      <td>-0.150397</td>\n",
       "      <td>-0.1262</td>\n",
       "    </tr>\n",
       "    <tr>\n",
       "      <th>1</th>\n",
       "      <td>Dữ lieu do NIR - 2022-06-23</td>\n",
       "      <td>00893_36</td>\n",
       "      <td>Hadanard1_100800_20220623_141053.csv</td>\n",
       "      <td>6/23/2022 14:10</td>\n",
       "      <td>34.29</td>\n",
       "      <td>85.91</td>\n",
       "      <td>0.830749</td>\n",
       "      <td>0.807264</td>\n",
       "      <td>0.816415</td>\n",
       "      <td>0.812683</td>\n",
       "      <td>...</td>\n",
       "      <td>-0.172542</td>\n",
       "      <td>-0.1899</td>\n",
       "      <td>-0.200437</td>\n",
       "      <td>-0.196828</td>\n",
       "      <td>-0.17931</td>\n",
       "      <td>-0.16928</td>\n",
       "      <td>-0.156739</td>\n",
       "      <td>-0.154597</td>\n",
       "      <td>-0.150397</td>\n",
       "      <td>-0.1262</td>\n",
       "    </tr>\n",
       "  </tbody>\n",
       "</table>\n",
       "<p>2 rows × 234 columns</p>\n",
       "</div>"
      ],
      "text/plain": [
       "                         Code1     Code2  \\\n",
       "0  Dữ lieu do NIR - 2022-06-23  00893_36   \n",
       "1  Dữ lieu do NIR - 2022-06-23  00893_36   \n",
       "\n",
       "                                  Code3    Date measured  Temperature  \\\n",
       "0  Hadanard1_100800_20220623_141053.csv  6/23/2022 14:10        34.29   \n",
       "1  Hadanard1_100800_20220623_141053.csv  6/23/2022 14:10        34.29   \n",
       "\n",
       "   Humidity  901.398183  905.331226  909.259927  913.184288  ...  1673.98141  \\\n",
       "0     85.91    0.830749    0.807264    0.816415    0.812683  ...   -0.172542   \n",
       "1     85.91    0.830749    0.807264    0.816415    0.812683  ...   -0.172542   \n",
       "\n",
       "   1676.942091  1679.898431  1682.85043  1685.798089  1688.741406  \\\n",
       "0      -0.1899    -0.200437   -0.196828     -0.17931     -0.16928   \n",
       "1      -0.1899    -0.200437   -0.196828     -0.17931     -0.16928   \n",
       "\n",
       "   1691.680383  1694.615018  1697.545313  1701.44562  \n",
       "0    -0.156739    -0.154597    -0.150397     -0.1262  \n",
       "1    -0.156739    -0.154597    -0.150397     -0.1262  \n",
       "\n",
       "[2 rows x 234 columns]"
      ]
     },
     "execution_count": 8,
     "metadata": {},
     "output_type": "execute_result"
    }
   ],
   "source": [
    "df = pd.read_csv(\"./data/database_09042024.csv\")\n",
    "df.head(2)"
   ]
  },
  {
   "cell_type": "code",
   "execution_count": 9,
   "metadata": {},
   "outputs": [
    {
     "data": {
      "text/plain": [
       "65274"
      ]
     },
     "execution_count": 9,
     "metadata": {},
     "output_type": "execute_result"
    }
   ],
   "source": [
    "len(df)"
   ]
  },
  {
   "cell_type": "code",
   "execution_count": 10,
   "metadata": {},
   "outputs": [],
   "source": [
    "df.drop_duplicates(inplace=True)"
   ]
  },
  {
   "cell_type": "code",
   "execution_count": 12,
   "metadata": {},
   "outputs": [
    {
     "data": {
      "text/plain": [
       "31087"
      ]
     },
     "execution_count": 12,
     "metadata": {},
     "output_type": "execute_result"
    }
   ],
   "source": [
    "len(df)"
   ]
  },
  {
   "cell_type": "code",
   "execution_count": 13,
   "metadata": {},
   "outputs": [
    {
     "data": {
      "text/html": [
       "<div>\n",
       "<style scoped>\n",
       "    .dataframe tbody tr th:only-of-type {\n",
       "        vertical-align: middle;\n",
       "    }\n",
       "\n",
       "    .dataframe tbody tr th {\n",
       "        vertical-align: top;\n",
       "    }\n",
       "\n",
       "    .dataframe thead th {\n",
       "        text-align: right;\n",
       "    }\n",
       "</style>\n",
       "<table border=\"1\" class=\"dataframe\">\n",
       "  <thead>\n",
       "    <tr style=\"text-align: right;\">\n",
       "      <th></th>\n",
       "      <th>Code1</th>\n",
       "      <th>Code2</th>\n",
       "      <th>Code3</th>\n",
       "      <th>Date measured</th>\n",
       "      <th>Temperature</th>\n",
       "      <th>Humidity</th>\n",
       "      <th>901.398183</th>\n",
       "      <th>905.331226</th>\n",
       "      <th>909.259927</th>\n",
       "      <th>913.184288</th>\n",
       "      <th>...</th>\n",
       "      <th>1673.98141</th>\n",
       "      <th>1676.942091</th>\n",
       "      <th>1679.898431</th>\n",
       "      <th>1682.85043</th>\n",
       "      <th>1685.798089</th>\n",
       "      <th>1688.741406</th>\n",
       "      <th>1691.680383</th>\n",
       "      <th>1694.615018</th>\n",
       "      <th>1697.545313</th>\n",
       "      <th>1701.44562</th>\n",
       "    </tr>\n",
       "  </thead>\n",
       "  <tbody>\n",
       "    <tr>\n",
       "      <th>0</th>\n",
       "      <td>Dữ lieu do NIR - 2022-06-23</td>\n",
       "      <td>00893_36</td>\n",
       "      <td>Hadanard1_100800_20220623_141053.csv</td>\n",
       "      <td>6/23/2022 14:10</td>\n",
       "      <td>34.29</td>\n",
       "      <td>85.91</td>\n",
       "      <td>0.830749</td>\n",
       "      <td>0.807264</td>\n",
       "      <td>0.816415</td>\n",
       "      <td>0.812683</td>\n",
       "      <td>...</td>\n",
       "      <td>-0.172542</td>\n",
       "      <td>-0.189900</td>\n",
       "      <td>-0.200437</td>\n",
       "      <td>-0.196828</td>\n",
       "      <td>-0.179310</td>\n",
       "      <td>-0.169280</td>\n",
       "      <td>-0.156739</td>\n",
       "      <td>-0.154597</td>\n",
       "      <td>-0.150397</td>\n",
       "      <td>-0.126200</td>\n",
       "    </tr>\n",
       "    <tr>\n",
       "      <th>2</th>\n",
       "      <td>Dữ lieu do NIR - 2022-06-23</td>\n",
       "      <td>00893_36</td>\n",
       "      <td>Hadanard1_100800_20220623_141110.csv</td>\n",
       "      <td>6/23/2022 14:11</td>\n",
       "      <td>34.48</td>\n",
       "      <td>85.26</td>\n",
       "      <td>0.704169</td>\n",
       "      <td>0.701405</td>\n",
       "      <td>0.692683</td>\n",
       "      <td>0.690105</td>\n",
       "      <td>...</td>\n",
       "      <td>-0.069185</td>\n",
       "      <td>-0.090661</td>\n",
       "      <td>-0.098000</td>\n",
       "      <td>-0.096262</td>\n",
       "      <td>-0.084292</td>\n",
       "      <td>-0.072022</td>\n",
       "      <td>-0.062244</td>\n",
       "      <td>-0.054861</td>\n",
       "      <td>-0.055234</td>\n",
       "      <td>-0.031353</td>\n",
       "    </tr>\n",
       "  </tbody>\n",
       "</table>\n",
       "<p>2 rows × 234 columns</p>\n",
       "</div>"
      ],
      "text/plain": [
       "                         Code1     Code2  \\\n",
       "0  Dữ lieu do NIR - 2022-06-23  00893_36   \n",
       "2  Dữ lieu do NIR - 2022-06-23  00893_36   \n",
       "\n",
       "                                  Code3    Date measured  Temperature  \\\n",
       "0  Hadanard1_100800_20220623_141053.csv  6/23/2022 14:10        34.29   \n",
       "2  Hadanard1_100800_20220623_141110.csv  6/23/2022 14:11        34.48   \n",
       "\n",
       "   Humidity  901.398183  905.331226  909.259927  913.184288  ...  1673.98141  \\\n",
       "0     85.91    0.830749    0.807264    0.816415    0.812683  ...   -0.172542   \n",
       "2     85.26    0.704169    0.701405    0.692683    0.690105  ...   -0.069185   \n",
       "\n",
       "   1676.942091  1679.898431  1682.85043  1685.798089  1688.741406  \\\n",
       "0    -0.189900    -0.200437   -0.196828    -0.179310    -0.169280   \n",
       "2    -0.090661    -0.098000   -0.096262    -0.084292    -0.072022   \n",
       "\n",
       "   1691.680383  1694.615018  1697.545313  1701.44562  \n",
       "0    -0.156739    -0.154597    -0.150397   -0.126200  \n",
       "2    -0.062244    -0.054861    -0.055234   -0.031353  \n",
       "\n",
       "[2 rows x 234 columns]"
      ]
     },
     "execution_count": 13,
     "metadata": {},
     "output_type": "execute_result"
    }
   ],
   "source": [
    "df.head(2)"
   ]
  },
  {
   "cell_type": "code",
   "execution_count": 14,
   "metadata": {},
   "outputs": [],
   "source": [
    "df.to_csv(\"./data/database_09042024.csv\", index=False, encoding='utf-8-sig')  "
   ]
  },
  {
   "cell_type": "code",
   "execution_count": 43,
   "metadata": {},
   "outputs": [
    {
     "data": {
      "text/html": [
       "<div>\n",
       "<style scoped>\n",
       "    .dataframe tbody tr th:only-of-type {\n",
       "        vertical-align: middle;\n",
       "    }\n",
       "\n",
       "    .dataframe tbody tr th {\n",
       "        vertical-align: top;\n",
       "    }\n",
       "\n",
       "    .dataframe thead th {\n",
       "        text-align: right;\n",
       "    }\n",
       "</style>\n",
       "<table border=\"1\" class=\"dataframe\">\n",
       "  <thead>\n",
       "    <tr style=\"text-align: right;\">\n",
       "      <th></th>\n",
       "      <th>Code1</th>\n",
       "      <th>Code2</th>\n",
       "      <th>Code3</th>\n",
       "      <th>Date measured</th>\n",
       "      <th>Temperature</th>\n",
       "      <th>Humidity</th>\n",
       "      <th>901.398183</th>\n",
       "      <th>905.331226</th>\n",
       "      <th>909.259927</th>\n",
       "      <th>913.184288</th>\n",
       "      <th>...</th>\n",
       "      <th>1673.98141</th>\n",
       "      <th>1676.942091</th>\n",
       "      <th>1679.898431</th>\n",
       "      <th>1682.85043</th>\n",
       "      <th>1685.798089</th>\n",
       "      <th>1688.741406</th>\n",
       "      <th>1691.680383</th>\n",
       "      <th>1694.615018</th>\n",
       "      <th>1697.545313</th>\n",
       "      <th>1701.44562</th>\n",
       "    </tr>\n",
       "  </thead>\n",
       "  <tbody>\n",
       "    <tr>\n",
       "      <th>0</th>\n",
       "      <td>Dữ lieu do NIR - 2022-06-23</td>\n",
       "      <td>00893_36</td>\n",
       "      <td>Hadanard1_100800_20220623_141053.csv</td>\n",
       "      <td>6/23/2022 14:10</td>\n",
       "      <td>34.29</td>\n",
       "      <td>85.91</td>\n",
       "      <td>0.830749</td>\n",
       "      <td>0.807264</td>\n",
       "      <td>0.816415</td>\n",
       "      <td>0.812683</td>\n",
       "      <td>...</td>\n",
       "      <td>-0.172542</td>\n",
       "      <td>-0.189900</td>\n",
       "      <td>-0.200437</td>\n",
       "      <td>-0.196828</td>\n",
       "      <td>-0.179310</td>\n",
       "      <td>-0.169280</td>\n",
       "      <td>-0.156739</td>\n",
       "      <td>-0.154597</td>\n",
       "      <td>-0.150397</td>\n",
       "      <td>-0.126200</td>\n",
       "    </tr>\n",
       "    <tr>\n",
       "      <th>1</th>\n",
       "      <td>Dữ lieu do NIR - 2022-06-23</td>\n",
       "      <td>00893_36</td>\n",
       "      <td>Hadanard1_100800_20220623_141110.csv</td>\n",
       "      <td>6/23/2022 14:11</td>\n",
       "      <td>34.48</td>\n",
       "      <td>85.26</td>\n",
       "      <td>0.704169</td>\n",
       "      <td>0.701405</td>\n",
       "      <td>0.692683</td>\n",
       "      <td>0.690105</td>\n",
       "      <td>...</td>\n",
       "      <td>-0.069185</td>\n",
       "      <td>-0.090661</td>\n",
       "      <td>-0.098000</td>\n",
       "      <td>-0.096262</td>\n",
       "      <td>-0.084292</td>\n",
       "      <td>-0.072022</td>\n",
       "      <td>-0.062244</td>\n",
       "      <td>-0.054861</td>\n",
       "      <td>-0.055234</td>\n",
       "      <td>-0.031353</td>\n",
       "    </tr>\n",
       "  </tbody>\n",
       "</table>\n",
       "<p>2 rows × 234 columns</p>\n",
       "</div>"
      ],
      "text/plain": [
       "                         Code1     Code2  \\\n",
       "0  Dữ lieu do NIR - 2022-06-23  00893_36   \n",
       "1  Dữ lieu do NIR - 2022-06-23  00893_36   \n",
       "\n",
       "                                  Code3    Date measured  Temperature  \\\n",
       "0  Hadanard1_100800_20220623_141053.csv  6/23/2022 14:10        34.29   \n",
       "1  Hadanard1_100800_20220623_141110.csv  6/23/2022 14:11        34.48   \n",
       "\n",
       "   Humidity  901.398183  905.331226  909.259927  913.184288  ...  1673.98141  \\\n",
       "0     85.91    0.830749    0.807264    0.816415    0.812683  ...   -0.172542   \n",
       "1     85.26    0.704169    0.701405    0.692683    0.690105  ...   -0.069185   \n",
       "\n",
       "   1676.942091  1679.898431  1682.85043  1685.798089  1688.741406  \\\n",
       "0    -0.189900    -0.200437   -0.196828    -0.179310    -0.169280   \n",
       "1    -0.090661    -0.098000   -0.096262    -0.084292    -0.072022   \n",
       "\n",
       "   1691.680383  1694.615018  1697.545313  1701.44562  \n",
       "0    -0.156739    -0.154597    -0.150397   -0.126200  \n",
       "1    -0.062244    -0.054861    -0.055234   -0.031353  \n",
       "\n",
       "[2 rows x 234 columns]"
      ]
     },
     "execution_count": 43,
     "metadata": {},
     "output_type": "execute_result"
    }
   ],
   "source": [
    "df = pd.read_csv(\"./data/database_09042024.csv\")\n",
    "df.head(2)"
   ]
  },
  {
   "cell_type": "code",
   "execution_count": 44,
   "metadata": {},
   "outputs": [
    {
     "data": {
      "text/html": [
       "<div>\n",
       "<style scoped>\n",
       "    .dataframe tbody tr th:only-of-type {\n",
       "        vertical-align: middle;\n",
       "    }\n",
       "\n",
       "    .dataframe tbody tr th {\n",
       "        vertical-align: top;\n",
       "    }\n",
       "\n",
       "    .dataframe thead th {\n",
       "        text-align: right;\n",
       "    }\n",
       "</style>\n",
       "<table border=\"1\" class=\"dataframe\">\n",
       "  <thead>\n",
       "    <tr style=\"text-align: right;\">\n",
       "      <th></th>\n",
       "      <th>Code1</th>\n",
       "      <th>Code2</th>\n",
       "      <th>Code3</th>\n",
       "      <th>Date measured</th>\n",
       "      <th>ID_machine</th>\n",
       "      <th>Temperature</th>\n",
       "      <th>Humidity</th>\n",
       "      <th>901.398183</th>\n",
       "      <th>905.331226</th>\n",
       "      <th>909.259927</th>\n",
       "      <th>...</th>\n",
       "      <th>1673.98141</th>\n",
       "      <th>1676.942091</th>\n",
       "      <th>1679.898431</th>\n",
       "      <th>1682.85043</th>\n",
       "      <th>1685.798089</th>\n",
       "      <th>1688.741406</th>\n",
       "      <th>1691.680383</th>\n",
       "      <th>1694.615018</th>\n",
       "      <th>1697.545313</th>\n",
       "      <th>1701.44562</th>\n",
       "    </tr>\n",
       "  </thead>\n",
       "  <tbody>\n",
       "    <tr>\n",
       "      <th>0</th>\n",
       "      <td>Dữ lieu do NIR - 2022-06-23</td>\n",
       "      <td>00893_36</td>\n",
       "      <td>Hadanard1_100800_20220623_141053.csv</td>\n",
       "      <td>6/23/2022 14:10</td>\n",
       "      <td>2</td>\n",
       "      <td>34.29</td>\n",
       "      <td>85.91</td>\n",
       "      <td>0.830749</td>\n",
       "      <td>0.807264</td>\n",
       "      <td>0.816415</td>\n",
       "      <td>...</td>\n",
       "      <td>-0.172542</td>\n",
       "      <td>-0.1899</td>\n",
       "      <td>-0.200437</td>\n",
       "      <td>-0.196828</td>\n",
       "      <td>-0.17931</td>\n",
       "      <td>-0.16928</td>\n",
       "      <td>-0.156739</td>\n",
       "      <td>-0.154597</td>\n",
       "      <td>-0.150397</td>\n",
       "      <td>-0.1262</td>\n",
       "    </tr>\n",
       "  </tbody>\n",
       "</table>\n",
       "<p>1 rows × 235 columns</p>\n",
       "</div>"
      ],
      "text/plain": [
       "                         Code1     Code2  \\\n",
       "0  Dữ lieu do NIR - 2022-06-23  00893_36   \n",
       "\n",
       "                                  Code3    Date measured  ID_machine  \\\n",
       "0  Hadanard1_100800_20220623_141053.csv  6/23/2022 14:10           2   \n",
       "\n",
       "   Temperature  Humidity  901.398183  905.331226  909.259927  ...  1673.98141  \\\n",
       "0        34.29     85.91    0.830749    0.807264    0.816415  ...   -0.172542   \n",
       "\n",
       "   1676.942091  1679.898431  1682.85043  1685.798089  1688.741406  \\\n",
       "0      -0.1899    -0.200437   -0.196828     -0.17931     -0.16928   \n",
       "\n",
       "   1691.680383  1694.615018  1697.545313  1701.44562  \n",
       "0    -0.156739    -0.154597    -0.150397     -0.1262  \n",
       "\n",
       "[1 rows x 235 columns]"
      ]
     },
     "execution_count": 44,
     "metadata": {},
     "output_type": "execute_result"
    }
   ],
   "source": [
    "df.insert(4, 'ID_machine', np.nan)\n",
    "df['ID_machine'] = df.apply(lambda x: 2 if x['Code3'][8]==\"1\" else 1, axis=1)\n",
    "df.head(1)"
   ]
  },
  {
   "cell_type": "code",
   "execution_count": 59,
   "metadata": {},
   "outputs": [],
   "source": [
    "df['extract_date_from_filename'] = df.apply(lambda x: datetime.strptime(x['Code3'][18:-4],\"%Y%m%d_%H%M%S\")  if x['ID_machine'] == 1 else datetime.strptime(x['Code3'][17:-4],\"%Y%m%d_%H%M%S\"), axis=1)\n",
    "df['extract_date_from_foldername'] = df.apply(lambda x: datetime.strptime(x['Code1'][-10:],\"%Y-%m-%d\") \n",
    "                    if pd.notnull(x['Code1'])\n",
    "                    else (datetime.strptime(x['Code3'][18:-4],\"%Y%m%d_%H%M%S\")  \n",
    "                            if x['ID_machine'] == 1 \n",
    "                            else datetime.strptime(x['Code3'][17:-4],\"%Y%m%d_%H%M%S\")), axis=1)"
   ]
  },
  {
   "cell_type": "code",
   "execution_count": 60,
   "metadata": {},
   "outputs": [],
   "source": [
    "df['extract_date_from_filename'] = pd.to_datetime(df[\"extract_date_from_filename\"]).dt.date\n",
    "df['extract_date_from_foldername'] = pd.to_datetime(df[\"extract_date_from_foldername\"]).dt.date"
   ]
  },
  {
   "cell_type": "code",
   "execution_count": 61,
   "metadata": {},
   "outputs": [],
   "source": [
    "df['date_fix2'] = df.apply(lambda x: 1 if abs(x['extract_date_from_filename'] - x['extract_date_from_foldername']).days <= 14 else 0, axis=1)"
   ]
  },
  {
   "cell_type": "code",
   "execution_count": 62,
   "metadata": {},
   "outputs": [
    {
     "name": "stdout",
     "output_type": "stream",
     "text": [
      "2061\n"
     ]
    },
    {
     "data": {
      "text/plain": [
       "array([datetime.date(2015, 3, 31)], dtype=object)"
      ]
     },
     "execution_count": 62,
     "metadata": {},
     "output_type": "execute_result"
    }
   ],
   "source": [
    "print(len(df[df['date_fix2']==0]))\n",
    "df[df['date_fix2']==0]['extract_date_from_filename'].unique()"
   ]
  },
  {
   "cell_type": "code",
   "execution_count": 63,
   "metadata": {},
   "outputs": [],
   "source": [
    "df['extract_date_from_filename'] = df.apply(lambda x: x['extract_date_from_filename'] if abs(x['extract_date_from_filename'] - x['extract_date_from_foldername']).days <= 14 else x['extract_date_from_foldername'], axis=1)"
   ]
  },
  {
   "cell_type": "code",
   "execution_count": 64,
   "metadata": {},
   "outputs": [],
   "source": [
    "df.to_csv(\"data/data_tieu_hat_full.csv\", index=False, encoding='utf-8-sig')"
   ]
  },
  {
   "cell_type": "markdown",
   "metadata": {},
   "source": [
    "# Hóa lý"
   ]
  },
  {
   "cell_type": "code",
   "execution_count": 6,
   "metadata": {},
   "outputs": [
    {
     "data": {
      "text/html": [
       "<div>\n",
       "<style scoped>\n",
       "    .dataframe tbody tr th:only-of-type {\n",
       "        vertical-align: middle;\n",
       "    }\n",
       "\n",
       "    .dataframe tbody tr th {\n",
       "        vertical-align: top;\n",
       "    }\n",
       "\n",
       "    .dataframe thead th {\n",
       "        text-align: right;\n",
       "    }\n",
       "</style>\n",
       "<table border=\"1\" class=\"dataframe\">\n",
       "  <thead>\n",
       "    <tr style=\"text-align: right;\">\n",
       "      <th></th>\n",
       "      <th>Sample</th>\n",
       "      <th>Date_HoaLy</th>\n",
       "      <th>DoAm</th>\n",
       "      <th>TroTong</th>\n",
       "      <th>TroKhongTan</th>\n",
       "      <th>Piperine</th>\n",
       "      <th>TinhDau</th>\n",
       "    </tr>\n",
       "  </thead>\n",
       "  <tbody>\n",
       "    <tr>\n",
       "      <th>0</th>\n",
       "      <td>00425_02</td>\n",
       "      <td>2022-01-20 00:00:00</td>\n",
       "      <td>14.575133</td>\n",
       "      <td>3.443350</td>\n",
       "      <td>NaN</td>\n",
       "      <td>4.3154</td>\n",
       "      <td>2.8</td>\n",
       "    </tr>\n",
       "    <tr>\n",
       "      <th>1</th>\n",
       "      <td>00423_04</td>\n",
       "      <td>2021-12-02 00:00:00</td>\n",
       "      <td>14.529467</td>\n",
       "      <td>4.355533</td>\n",
       "      <td>0.432867</td>\n",
       "      <td>4.5909</td>\n",
       "      <td>2.6</td>\n",
       "    </tr>\n",
       "  </tbody>\n",
       "</table>\n",
       "</div>"
      ],
      "text/plain": [
       "     Sample           Date_HoaLy       DoAm   TroTong  TroKhongTan  Piperine  \\\n",
       "0  00425_02  2022-01-20 00:00:00  14.575133  3.443350          NaN    4.3154   \n",
       "1  00423_04  2021-12-02 00:00:00  14.529467  4.355533     0.432867    4.5909   \n",
       "\n",
       "   TinhDau  \n",
       "0      2.8  \n",
       "1      2.6  "
      ]
     },
     "execution_count": 6,
     "metadata": {},
     "output_type": "execute_result"
    }
   ],
   "source": [
    "df_hoaly = pd.read_excel(\"./data/Hoa_ly_09042024.xlsx\", sheet_name=\"Sheet2\")\n",
    "df_hoaly.drop_duplicates(inplace=True)\n",
    "df_hoaly = df_hoaly.reset_index(drop=True)\n",
    "df_hoaly.head(2)"
   ]
  },
  {
   "cell_type": "code",
   "execution_count": 7,
   "metadata": {},
   "outputs": [
    {
     "ename": "ValueError",
     "evalue": "Length mismatch: Expected axis has 7 elements, new values have 6 elements",
     "output_type": "error",
     "traceback": [
      "\u001b[1;31m---------------------------------------------------------------------------\u001b[0m",
      "\u001b[1;31mValueError\u001b[0m                                Traceback (most recent call last)",
      "Cell \u001b[1;32mIn[7], line 2\u001b[0m\n\u001b[0;32m      1\u001b[0m df_hoaly[\u001b[38;5;124m'\u001b[39m\u001b[38;5;124mDate_HoaLy\u001b[39m\u001b[38;5;124m'\u001b[39m] \u001b[38;5;241m=\u001b[39m pd\u001b[38;5;241m.\u001b[39mto_datetime(df_hoaly[\u001b[38;5;124m\"\u001b[39m\u001b[38;5;124mDate_HoaLy\u001b[39m\u001b[38;5;124m\"\u001b[39m])\u001b[38;5;241m.\u001b[39mdt\u001b[38;5;241m.\u001b[39mdate\n\u001b[1;32m----> 2\u001b[0m \u001b[43mdf_hoaly\u001b[49m\u001b[38;5;241;43m.\u001b[39;49m\u001b[43mcolumns\u001b[49m \u001b[38;5;241m=\u001b[39m [\u001b[38;5;124m'\u001b[39m\u001b[38;5;124mSample\u001b[39m\u001b[38;5;124m'\u001b[39m, \u001b[38;5;124m'\u001b[39m\u001b[38;5;124mDate_HoaLy\u001b[39m\u001b[38;5;124m'\u001b[39m, \u001b[38;5;124m'\u001b[39m\u001b[38;5;124mDoAm\u001b[39m\u001b[38;5;124m'\u001b[39m, \u001b[38;5;124m'\u001b[39m\u001b[38;5;124mTroTong\u001b[39m\u001b[38;5;124m'\u001b[39m, \u001b[38;5;124m'\u001b[39m\u001b[38;5;124mPeperine\u001b[39m\u001b[38;5;124m'\u001b[39m, \u001b[38;5;124m'\u001b[39m\u001b[38;5;124mTinhDau\u001b[39m\u001b[38;5;124m'\u001b[39m]\n",
      "File \u001b[1;32m~\\AppData\\Roaming\\Python\\Python312\\site-packages\\pandas\\core\\generic.py:6310\u001b[0m, in \u001b[0;36mNDFrame.__setattr__\u001b[1;34m(self, name, value)\u001b[0m\n\u001b[0;32m   6308\u001b[0m \u001b[38;5;28;01mtry\u001b[39;00m:\n\u001b[0;32m   6309\u001b[0m     \u001b[38;5;28mobject\u001b[39m\u001b[38;5;241m.\u001b[39m\u001b[38;5;21m__getattribute__\u001b[39m(\u001b[38;5;28mself\u001b[39m, name)\n\u001b[1;32m-> 6310\u001b[0m     \u001b[38;5;28;01mreturn\u001b[39;00m \u001b[38;5;28;43mobject\u001b[39;49m\u001b[38;5;241;43m.\u001b[39;49m\u001b[38;5;21;43m__setattr__\u001b[39;49m\u001b[43m(\u001b[49m\u001b[38;5;28;43mself\u001b[39;49m\u001b[43m,\u001b[49m\u001b[43m \u001b[49m\u001b[43mname\u001b[49m\u001b[43m,\u001b[49m\u001b[43m \u001b[49m\u001b[43mvalue\u001b[49m\u001b[43m)\u001b[49m\n\u001b[0;32m   6311\u001b[0m \u001b[38;5;28;01mexcept\u001b[39;00m \u001b[38;5;167;01mAttributeError\u001b[39;00m:\n\u001b[0;32m   6312\u001b[0m     \u001b[38;5;28;01mpass\u001b[39;00m\n",
      "File \u001b[1;32mproperties.pyx:69\u001b[0m, in \u001b[0;36mpandas._libs.properties.AxisProperty.__set__\u001b[1;34m()\u001b[0m\n",
      "File \u001b[1;32m~\\AppData\\Roaming\\Python\\Python312\\site-packages\\pandas\\core\\generic.py:813\u001b[0m, in \u001b[0;36mNDFrame._set_axis\u001b[1;34m(self, axis, labels)\u001b[0m\n\u001b[0;32m    808\u001b[0m \u001b[38;5;250m\u001b[39m\u001b[38;5;124;03m\"\"\"\u001b[39;00m\n\u001b[0;32m    809\u001b[0m \u001b[38;5;124;03mThis is called from the cython code when we set the `index` attribute\u001b[39;00m\n\u001b[0;32m    810\u001b[0m \u001b[38;5;124;03mdirectly, e.g. `series.index = [1, 2, 3]`.\u001b[39;00m\n\u001b[0;32m    811\u001b[0m \u001b[38;5;124;03m\"\"\"\u001b[39;00m\n\u001b[0;32m    812\u001b[0m labels \u001b[38;5;241m=\u001b[39m ensure_index(labels)\n\u001b[1;32m--> 813\u001b[0m \u001b[38;5;28;43mself\u001b[39;49m\u001b[38;5;241;43m.\u001b[39;49m\u001b[43m_mgr\u001b[49m\u001b[38;5;241;43m.\u001b[39;49m\u001b[43mset_axis\u001b[49m\u001b[43m(\u001b[49m\u001b[43maxis\u001b[49m\u001b[43m,\u001b[49m\u001b[43m \u001b[49m\u001b[43mlabels\u001b[49m\u001b[43m)\u001b[49m\n\u001b[0;32m    814\u001b[0m \u001b[38;5;28mself\u001b[39m\u001b[38;5;241m.\u001b[39m_clear_item_cache()\n",
      "File \u001b[1;32m~\\AppData\\Roaming\\Python\\Python312\\site-packages\\pandas\\core\\internals\\managers.py:238\u001b[0m, in \u001b[0;36mBaseBlockManager.set_axis\u001b[1;34m(self, axis, new_labels)\u001b[0m\n\u001b[0;32m    236\u001b[0m \u001b[38;5;28;01mdef\u001b[39;00m \u001b[38;5;21mset_axis\u001b[39m(\u001b[38;5;28mself\u001b[39m, axis: AxisInt, new_labels: Index) \u001b[38;5;241m-\u001b[39m\u001b[38;5;241m>\u001b[39m \u001b[38;5;28;01mNone\u001b[39;00m:\n\u001b[0;32m    237\u001b[0m     \u001b[38;5;66;03m# Caller is responsible for ensuring we have an Index object.\u001b[39;00m\n\u001b[1;32m--> 238\u001b[0m     \u001b[38;5;28;43mself\u001b[39;49m\u001b[38;5;241;43m.\u001b[39;49m\u001b[43m_validate_set_axis\u001b[49m\u001b[43m(\u001b[49m\u001b[43maxis\u001b[49m\u001b[43m,\u001b[49m\u001b[43m \u001b[49m\u001b[43mnew_labels\u001b[49m\u001b[43m)\u001b[49m\n\u001b[0;32m    239\u001b[0m     \u001b[38;5;28mself\u001b[39m\u001b[38;5;241m.\u001b[39maxes[axis] \u001b[38;5;241m=\u001b[39m new_labels\n",
      "File \u001b[1;32m~\\AppData\\Roaming\\Python\\Python312\\site-packages\\pandas\\core\\internals\\base.py:98\u001b[0m, in \u001b[0;36mDataManager._validate_set_axis\u001b[1;34m(self, axis, new_labels)\u001b[0m\n\u001b[0;32m     95\u001b[0m     \u001b[38;5;28;01mpass\u001b[39;00m\n\u001b[0;32m     97\u001b[0m \u001b[38;5;28;01melif\u001b[39;00m new_len \u001b[38;5;241m!=\u001b[39m old_len:\n\u001b[1;32m---> 98\u001b[0m     \u001b[38;5;28;01mraise\u001b[39;00m \u001b[38;5;167;01mValueError\u001b[39;00m(\n\u001b[0;32m     99\u001b[0m         \u001b[38;5;124mf\u001b[39m\u001b[38;5;124m\"\u001b[39m\u001b[38;5;124mLength mismatch: Expected axis has \u001b[39m\u001b[38;5;132;01m{\u001b[39;00mold_len\u001b[38;5;132;01m}\u001b[39;00m\u001b[38;5;124m elements, new \u001b[39m\u001b[38;5;124m\"\u001b[39m\n\u001b[0;32m    100\u001b[0m         \u001b[38;5;124mf\u001b[39m\u001b[38;5;124m\"\u001b[39m\u001b[38;5;124mvalues have \u001b[39m\u001b[38;5;132;01m{\u001b[39;00mnew_len\u001b[38;5;132;01m}\u001b[39;00m\u001b[38;5;124m elements\u001b[39m\u001b[38;5;124m\"\u001b[39m\n\u001b[0;32m    101\u001b[0m     )\n",
      "\u001b[1;31mValueError\u001b[0m: Length mismatch: Expected axis has 7 elements, new values have 6 elements"
     ]
    }
   ],
   "source": [
    "df_hoaly['Date_HoaLy'] = pd.to_datetime(df_hoaly[\"Date_HoaLy\"]).dt.date\n",
    "df_hoaly.columns = ['Sample', 'Date_HoaLy', 'DoAm', 'TroTong', 'Peperine', 'TinhDau']"
   ]
  },
  {
   "cell_type": "code",
   "execution_count": 8,
   "metadata": {},
   "outputs": [],
   "source": [
    "df = pd.read_csv(\"data/data_tieu_hat_full.csv\")\n",
    "df = df.replace({'02415-07':'02415_07', \n",
    "            '02422-09':'02422_09',\n",
    "            '00389_02':'00398_02',\n",
    "            '09625_15':'06925_15'})"
   ]
  },
  {
   "cell_type": "code",
   "execution_count": 9,
   "metadata": {},
   "outputs": [],
   "source": [
    "arr_code_NIR = df['Code2'].unique()\n",
    "arr_code_hoaly = df_hoaly['Sample'].unique()"
   ]
  },
  {
   "cell_type": "code",
   "execution_count": 10,
   "metadata": {},
   "outputs": [
    {
     "data": {
      "text/plain": [
       "['08198_01',\n",
       " '08216_02',\n",
       " '08298_06',\n",
       " '00898_23',\n",
       " '00871_01',\n",
       " '00373_08',\n",
       " '00401_22',\n",
       " '02469_32',\n",
       " '00523_01',\n",
       " '00534_03']"
      ]
     },
     "execution_count": 10,
     "metadata": {},
     "output_type": "execute_result"
    }
   ],
   "source": [
    "filtered_array = [x for x in arr_code_NIR if x not in arr_code_hoaly]\n",
    "filtered_array"
   ]
  },
  {
   "cell_type": "code",
   "execution_count": 11,
   "metadata": {},
   "outputs": [
    {
     "data": {
      "text/plain": [
       "['08201_17',\n",
       " '00426_01',\n",
       " '00373_01',\n",
       " '00559_23',\n",
       " '02255_24',\n",
       " '00506_22',\n",
       " '00559_19',\n",
       " '08406_21',\n",
       " '02415_11']"
      ]
     },
     "execution_count": 11,
     "metadata": {},
     "output_type": "execute_result"
    }
   ],
   "source": [
    "[x for x in arr_code_hoaly if x not in arr_code_NIR]\n"
   ]
  },
  {
   "cell_type": "code",
   "execution_count": 5,
   "metadata": {},
   "outputs": [
    {
     "data": {
      "text/plain": [
       "151"
      ]
     },
     "execution_count": 5,
     "metadata": {},
     "output_type": "execute_result"
    }
   ],
   "source": [
    "len(df['Code2'].unique())"
   ]
  },
  {
   "cell_type": "code",
   "execution_count": 6,
   "metadata": {},
   "outputs": [
    {
     "data": {
      "text/plain": [
       "150"
      ]
     },
     "execution_count": 6,
     "metadata": {},
     "output_type": "execute_result"
    }
   ],
   "source": [
    "len(df_hoaly['Sample'].unique())"
   ]
  },
  {
   "cell_type": "code",
   "execution_count": 87,
   "metadata": {},
   "outputs": [
    {
     "data": {
      "text/plain": [
       "array(['11/28/2022', '12/13/2022'], dtype=object)"
      ]
     },
     "execution_count": 87,
     "metadata": {},
     "output_type": "execute_result"
    }
   ],
   "source": [
    "df[df['Code2'] == '02649_34']['extract_date_from_filename'].unique()"
   ]
  },
  {
   "cell_type": "code",
   "execution_count": 86,
   "metadata": {},
   "outputs": [
    {
     "data": {
      "text/html": [
       "<div>\n",
       "<style scoped>\n",
       "    .dataframe tbody tr th:only-of-type {\n",
       "        vertical-align: middle;\n",
       "    }\n",
       "\n",
       "    .dataframe tbody tr th {\n",
       "        vertical-align: top;\n",
       "    }\n",
       "\n",
       "    .dataframe thead th {\n",
       "        text-align: right;\n",
       "    }\n",
       "</style>\n",
       "<table border=\"1\" class=\"dataframe\">\n",
       "  <thead>\n",
       "    <tr style=\"text-align: right;\">\n",
       "      <th></th>\n",
       "      <th>Sample</th>\n",
       "      <th>Date_HoaLy</th>\n",
       "      <th>DoAm</th>\n",
       "      <th>TroTong</th>\n",
       "      <th>Peperine</th>\n",
       "      <th>TinhDau</th>\n",
       "    </tr>\n",
       "  </thead>\n",
       "  <tbody>\n",
       "    <tr>\n",
       "      <th>111</th>\n",
       "      <td>02649_34</td>\n",
       "      <td>2022-12-01</td>\n",
       "      <td>11.766200</td>\n",
       "      <td>4.107300</td>\n",
       "      <td>3.831183</td>\n",
       "      <td>3.20000</td>\n",
       "    </tr>\n",
       "    <tr>\n",
       "      <th>126</th>\n",
       "      <td>02649_34</td>\n",
       "      <td>2022-12-20</td>\n",
       "      <td>12.512700</td>\n",
       "      <td>4.163100</td>\n",
       "      <td>4.606467</td>\n",
       "      <td>2.10000</td>\n",
       "    </tr>\n",
       "    <tr>\n",
       "      <th>180</th>\n",
       "      <td>02649_34</td>\n",
       "      <td>2023-12-12</td>\n",
       "      <td>13.279642</td>\n",
       "      <td>4.044492</td>\n",
       "      <td>NaN</td>\n",
       "      <td>2.39952</td>\n",
       "    </tr>\n",
       "  </tbody>\n",
       "</table>\n",
       "</div>"
      ],
      "text/plain": [
       "       Sample  Date_HoaLy       DoAm   TroTong  Peperine  TinhDau\n",
       "111  02649_34  2022-12-01  11.766200  4.107300  3.831183  3.20000\n",
       "126  02649_34  2022-12-20  12.512700  4.163100  4.606467  2.10000\n",
       "180  02649_34  2023-12-12  13.279642  4.044492       NaN  2.39952"
      ]
     },
     "execution_count": 86,
     "metadata": {},
     "output_type": "execute_result"
    }
   ],
   "source": [
    "df_hoaly[df_hoaly['Sample'] == '02649_34']"
   ]
  },
  {
   "cell_type": "code",
   "execution_count": 81,
   "metadata": {},
   "outputs": [
    {
     "data": {
      "text/html": [
       "<div>\n",
       "<style scoped>\n",
       "    .dataframe tbody tr th:only-of-type {\n",
       "        vertical-align: middle;\n",
       "    }\n",
       "\n",
       "    .dataframe tbody tr th {\n",
       "        vertical-align: top;\n",
       "    }\n",
       "\n",
       "    .dataframe thead th {\n",
       "        text-align: right;\n",
       "    }\n",
       "</style>\n",
       "<table border=\"1\" class=\"dataframe\">\n",
       "  <thead>\n",
       "    <tr style=\"text-align: right;\">\n",
       "      <th></th>\n",
       "      <th>Sample</th>\n",
       "      <th>Date_HoaLy</th>\n",
       "      <th>DoAm</th>\n",
       "      <th>TroTong</th>\n",
       "      <th>Peperine</th>\n",
       "      <th>TinhDau</th>\n",
       "    </tr>\n",
       "  </thead>\n",
       "  <tbody>\n",
       "    <tr>\n",
       "      <th>84</th>\n",
       "      <td>07338_19</td>\n",
       "      <td>2022-07-05</td>\n",
       "      <td>11.833700</td>\n",
       "      <td>3.464400</td>\n",
       "      <td>4.313000</td>\n",
       "      <td>2.80000</td>\n",
       "    </tr>\n",
       "    <tr>\n",
       "      <th>112</th>\n",
       "      <td>02455_03</td>\n",
       "      <td>2022-12-01</td>\n",
       "      <td>15.256300</td>\n",
       "      <td>3.773700</td>\n",
       "      <td>4.653033</td>\n",
       "      <td>3.60000</td>\n",
       "    </tr>\n",
       "    <tr>\n",
       "      <th>126</th>\n",
       "      <td>02649_34</td>\n",
       "      <td>2022-12-20</td>\n",
       "      <td>12.512700</td>\n",
       "      <td>4.163100</td>\n",
       "      <td>4.606467</td>\n",
       "      <td>2.10000</td>\n",
       "    </tr>\n",
       "    <tr>\n",
       "      <th>128</th>\n",
       "      <td>02649_23</td>\n",
       "      <td>2022-12-22</td>\n",
       "      <td>12.280500</td>\n",
       "      <td>4.078600</td>\n",
       "      <td>4.402683</td>\n",
       "      <td>2.90000</td>\n",
       "    </tr>\n",
       "    <tr>\n",
       "      <th>156</th>\n",
       "      <td>00506_18</td>\n",
       "      <td>2023-09-11</td>\n",
       "      <td>12.477503</td>\n",
       "      <td>4.548414</td>\n",
       "      <td>NaN</td>\n",
       "      <td>2.09958</td>\n",
       "    </tr>\n",
       "    <tr>\n",
       "      <th>157</th>\n",
       "      <td>02255_25</td>\n",
       "      <td>2023-11-13</td>\n",
       "      <td>12.873494</td>\n",
       "      <td>4.390763</td>\n",
       "      <td>NaN</td>\n",
       "      <td>2.69946</td>\n",
       "    </tr>\n",
       "    <tr>\n",
       "      <th>158</th>\n",
       "      <td>02255_26</td>\n",
       "      <td>2023-11-16</td>\n",
       "      <td>14.694814</td>\n",
       "      <td>4.268711</td>\n",
       "      <td>NaN</td>\n",
       "      <td>4.09918</td>\n",
       "    </tr>\n",
       "    <tr>\n",
       "      <th>159</th>\n",
       "      <td>08406_21</td>\n",
       "      <td>2023-11-29</td>\n",
       "      <td>13.206585</td>\n",
       "      <td>3.537438</td>\n",
       "      <td>NaN</td>\n",
       "      <td>3.09938</td>\n",
       "    </tr>\n",
       "    <tr>\n",
       "      <th>160</th>\n",
       "      <td>02255_24</td>\n",
       "      <td>2023-12-01</td>\n",
       "      <td>13.016023</td>\n",
       "      <td>4.443201</td>\n",
       "      <td>NaN</td>\n",
       "      <td>3.09938</td>\n",
       "    </tr>\n",
       "    <tr>\n",
       "      <th>161</th>\n",
       "      <td>00506_22</td>\n",
       "      <td>2023-12-08</td>\n",
       "      <td>14.673643</td>\n",
       "      <td>4.032633</td>\n",
       "      <td>NaN</td>\n",
       "      <td>3.19936</td>\n",
       "    </tr>\n",
       "    <tr>\n",
       "      <th>162</th>\n",
       "      <td>00401_16</td>\n",
       "      <td>2023-11-27</td>\n",
       "      <td>13.245478</td>\n",
       "      <td>3.806901</td>\n",
       "      <td>NaN</td>\n",
       "      <td>2.69946</td>\n",
       "    </tr>\n",
       "    <tr>\n",
       "      <th>163</th>\n",
       "      <td>00401_20</td>\n",
       "      <td>2023-11-28</td>\n",
       "      <td>13.707367</td>\n",
       "      <td>3.790263</td>\n",
       "      <td>NaN</td>\n",
       "      <td>3.09938</td>\n",
       "    </tr>\n",
       "    <tr>\n",
       "      <th>164</th>\n",
       "      <td>00401_17</td>\n",
       "      <td>2023-11-03</td>\n",
       "      <td>12.728983</td>\n",
       "      <td>4.539839</td>\n",
       "      <td>NaN</td>\n",
       "      <td>2.49950</td>\n",
       "    </tr>\n",
       "    <tr>\n",
       "      <th>165</th>\n",
       "      <td>00401_18</td>\n",
       "      <td>2023-11-06</td>\n",
       "      <td>13.745160</td>\n",
       "      <td>4.150564</td>\n",
       "      <td>NaN</td>\n",
       "      <td>2.69946</td>\n",
       "    </tr>\n",
       "    <tr>\n",
       "      <th>166</th>\n",
       "      <td>00401_21</td>\n",
       "      <td>2023-11-07</td>\n",
       "      <td>15.667444</td>\n",
       "      <td>4.321751</td>\n",
       "      <td>NaN</td>\n",
       "      <td>2.49950</td>\n",
       "    </tr>\n",
       "    <tr>\n",
       "      <th>167</th>\n",
       "      <td>00401_19</td>\n",
       "      <td>2023-11-08</td>\n",
       "      <td>13.053884</td>\n",
       "      <td>3.942853</td>\n",
       "      <td>NaN</td>\n",
       "      <td>2.49950</td>\n",
       "    </tr>\n",
       "    <tr>\n",
       "      <th>168</th>\n",
       "      <td>06925_13</td>\n",
       "      <td>2023-10-11</td>\n",
       "      <td>14.254075</td>\n",
       "      <td>3.813678</td>\n",
       "      <td>NaN</td>\n",
       "      <td>2.79944</td>\n",
       "    </tr>\n",
       "    <tr>\n",
       "      <th>169</th>\n",
       "      <td>06925_14</td>\n",
       "      <td>2023-11-14</td>\n",
       "      <td>14.254286</td>\n",
       "      <td>3.717618</td>\n",
       "      <td>NaN</td>\n",
       "      <td>2.89942</td>\n",
       "    </tr>\n",
       "    <tr>\n",
       "      <th>170</th>\n",
       "      <td>06925_15</td>\n",
       "      <td>2023-11-15</td>\n",
       "      <td>13.749932</td>\n",
       "      <td>3.730402</td>\n",
       "      <td>NaN</td>\n",
       "      <td>2.69946</td>\n",
       "    </tr>\n",
       "    <tr>\n",
       "      <th>171</th>\n",
       "      <td>02417_10</td>\n",
       "      <td>2023-12-02</td>\n",
       "      <td>14.005858</td>\n",
       "      <td>3.769626</td>\n",
       "      <td>NaN</td>\n",
       "      <td>2.89942</td>\n",
       "    </tr>\n",
       "    <tr>\n",
       "      <th>172</th>\n",
       "      <td>02411_06</td>\n",
       "      <td>2023-12-08</td>\n",
       "      <td>13.775357</td>\n",
       "      <td>3.908108</td>\n",
       "      <td>NaN</td>\n",
       "      <td>2.99940</td>\n",
       "    </tr>\n",
       "    <tr>\n",
       "      <th>173</th>\n",
       "      <td>02415_07</td>\n",
       "      <td>2023-12-18</td>\n",
       "      <td>14.872579</td>\n",
       "      <td>3.751806</td>\n",
       "      <td>NaN</td>\n",
       "      <td>2.59948</td>\n",
       "    </tr>\n",
       "    <tr>\n",
       "      <th>174</th>\n",
       "      <td>08198_20</td>\n",
       "      <td>2023-11-28</td>\n",
       "      <td>13.248543</td>\n",
       "      <td>3.552105</td>\n",
       "      <td>NaN</td>\n",
       "      <td>2.59948</td>\n",
       "    </tr>\n",
       "    <tr>\n",
       "      <th>175</th>\n",
       "      <td>02649_36</td>\n",
       "      <td>2023-12-02</td>\n",
       "      <td>13.113192</td>\n",
       "      <td>4.025186</td>\n",
       "      <td>NaN</td>\n",
       "      <td>2.29954</td>\n",
       "    </tr>\n",
       "    <tr>\n",
       "      <th>176</th>\n",
       "      <td>02649_28</td>\n",
       "      <td>2023-12-04</td>\n",
       "      <td>13.394376</td>\n",
       "      <td>4.342757</td>\n",
       "      <td>NaN</td>\n",
       "      <td>2.09958</td>\n",
       "    </tr>\n",
       "    <tr>\n",
       "      <th>177</th>\n",
       "      <td>02649_31</td>\n",
       "      <td>2023-12-04</td>\n",
       "      <td>13.515254</td>\n",
       "      <td>4.056450</td>\n",
       "      <td>NaN</td>\n",
       "      <td>2.29954</td>\n",
       "    </tr>\n",
       "    <tr>\n",
       "      <th>178</th>\n",
       "      <td>02649_21</td>\n",
       "      <td>2023-12-06</td>\n",
       "      <td>12.641488</td>\n",
       "      <td>4.265303</td>\n",
       "      <td>NaN</td>\n",
       "      <td>2.19956</td>\n",
       "    </tr>\n",
       "    <tr>\n",
       "      <th>179</th>\n",
       "      <td>08198_18</td>\n",
       "      <td>2023-12-06</td>\n",
       "      <td>13.045143</td>\n",
       "      <td>4.044913</td>\n",
       "      <td>NaN</td>\n",
       "      <td>2.49950</td>\n",
       "    </tr>\n",
       "    <tr>\n",
       "      <th>180</th>\n",
       "      <td>02649_34</td>\n",
       "      <td>2023-12-12</td>\n",
       "      <td>13.279642</td>\n",
       "      <td>4.044492</td>\n",
       "      <td>NaN</td>\n",
       "      <td>2.39952</td>\n",
       "    </tr>\n",
       "    <tr>\n",
       "      <th>181</th>\n",
       "      <td>02649_23</td>\n",
       "      <td>2023-12-12</td>\n",
       "      <td>13.341525</td>\n",
       "      <td>4.117985</td>\n",
       "      <td>NaN</td>\n",
       "      <td>2.59948</td>\n",
       "    </tr>\n",
       "    <tr>\n",
       "      <th>182</th>\n",
       "      <td>02649_37</td>\n",
       "      <td>2023-12-14</td>\n",
       "      <td>13.425507</td>\n",
       "      <td>4.061382</td>\n",
       "      <td>NaN</td>\n",
       "      <td>2.49950</td>\n",
       "    </tr>\n",
       "    <tr>\n",
       "      <th>183</th>\n",
       "      <td>08198_19</td>\n",
       "      <td>2023-12-19</td>\n",
       "      <td>13.284060</td>\n",
       "      <td>4.027575</td>\n",
       "      <td>NaN</td>\n",
       "      <td>2.49950</td>\n",
       "    </tr>\n",
       "  </tbody>\n",
       "</table>\n",
       "</div>"
      ],
      "text/plain": [
       "       Sample  Date_HoaLy       DoAm   TroTong  Peperine  TinhDau\n",
       "84   07338_19  2022-07-05  11.833700  3.464400  4.313000  2.80000\n",
       "112  02455_03  2022-12-01  15.256300  3.773700  4.653033  3.60000\n",
       "126  02649_34  2022-12-20  12.512700  4.163100  4.606467  2.10000\n",
       "128  02649_23  2022-12-22  12.280500  4.078600  4.402683  2.90000\n",
       "156  00506_18  2023-09-11  12.477503  4.548414       NaN  2.09958\n",
       "157  02255_25  2023-11-13  12.873494  4.390763       NaN  2.69946\n",
       "158  02255_26  2023-11-16  14.694814  4.268711       NaN  4.09918\n",
       "159  08406_21  2023-11-29  13.206585  3.537438       NaN  3.09938\n",
       "160  02255_24  2023-12-01  13.016023  4.443201       NaN  3.09938\n",
       "161  00506_22  2023-12-08  14.673643  4.032633       NaN  3.19936\n",
       "162  00401_16  2023-11-27  13.245478  3.806901       NaN  2.69946\n",
       "163  00401_20  2023-11-28  13.707367  3.790263       NaN  3.09938\n",
       "164  00401_17  2023-11-03  12.728983  4.539839       NaN  2.49950\n",
       "165  00401_18  2023-11-06  13.745160  4.150564       NaN  2.69946\n",
       "166  00401_21  2023-11-07  15.667444  4.321751       NaN  2.49950\n",
       "167  00401_19  2023-11-08  13.053884  3.942853       NaN  2.49950\n",
       "168  06925_13  2023-10-11  14.254075  3.813678       NaN  2.79944\n",
       "169  06925_14  2023-11-14  14.254286  3.717618       NaN  2.89942\n",
       "170  06925_15  2023-11-15  13.749932  3.730402       NaN  2.69946\n",
       "171  02417_10  2023-12-02  14.005858  3.769626       NaN  2.89942\n",
       "172  02411_06  2023-12-08  13.775357  3.908108       NaN  2.99940\n",
       "173  02415_07  2023-12-18  14.872579  3.751806       NaN  2.59948\n",
       "174  08198_20  2023-11-28  13.248543  3.552105       NaN  2.59948\n",
       "175  02649_36  2023-12-02  13.113192  4.025186       NaN  2.29954\n",
       "176  02649_28  2023-12-04  13.394376  4.342757       NaN  2.09958\n",
       "177  02649_31  2023-12-04  13.515254  4.056450       NaN  2.29954\n",
       "178  02649_21  2023-12-06  12.641488  4.265303       NaN  2.19956\n",
       "179  08198_18  2023-12-06  13.045143  4.044913       NaN  2.49950\n",
       "180  02649_34  2023-12-12  13.279642  4.044492       NaN  2.39952\n",
       "181  02649_23  2023-12-12  13.341525  4.117985       NaN  2.59948\n",
       "182  02649_37  2023-12-14  13.425507  4.061382       NaN  2.49950\n",
       "183  08198_19  2023-12-19  13.284060  4.027575       NaN  2.49950"
      ]
     },
     "execution_count": 81,
     "metadata": {},
     "output_type": "execute_result"
    }
   ],
   "source": [
    "df_hoaly[df_hoaly['Sample'].duplicated()]"
   ]
  },
  {
   "cell_type": "code",
   "execution_count": 7,
   "metadata": {},
   "outputs": [],
   "source": [
    "df['DoAm'] = pd.Series(dtype='int')\n",
    "df['TroTong'] = pd.Series(dtype='int')\n",
    "#df['TroKhongTan'] = pd.Series(dtype='int')\n",
    "df['Peperine'] = pd.Series(dtype='int')\n",
    "df['TinhDau'] = pd.Series(dtype='int')"
   ]
  },
  {
   "cell_type": "code",
   "execution_count": 8,
   "metadata": {},
   "outputs": [],
   "source": [
    "df['extract_date_from_filename'] = pd.to_datetime(df['extract_date_from_filename'] ).dt.date"
   ]
  },
  {
   "cell_type": "code",
   "execution_count": 157,
   "metadata": {},
   "outputs": [],
   "source": [
    "for i in range(len(df_hoaly)):\n",
    "    try:\n",
    "        df['DoAm'] = df.apply(lambda x: df_hoaly['DoAm'][i] if ((x['Code2'] == df_hoaly['Sample'][i]) and (abs(x['extract_date_from_filename'] - df_hoaly['Date_HoaLy'][i]).days <= 30)) else x['DoAm'], axis=1)\n",
    "    except: \n",
    "        pass\n",
    "for i in range(len(df_hoaly)):\n",
    "    try:\n",
    "        df['TroTong'] = df.apply(lambda x: df_hoaly['TroTong'][i] if ((x['Code2'] == df_hoaly['Sample'][i]) and (abs(x['extract_date_from_filename'] - df_hoaly['Date_HoaLy'][i]).days <= 30)) else x['TroTong'], axis=1)\n",
    "    except: \n",
    "        pass \n",
    "for i in range(len(df_hoaly)):\n",
    "    try:\n",
    "        df['TroKhongTan'] = df.apply(lambda x: df_hoaly['TroKhongTan'][i] if ((x['Code2'] == df_hoaly['Sample'][i]) and (abs(x['extract_date_from_filename'] - df_hoaly['Date_HoaLy'][i]).days <= 30)) else x['TroKhongTan'], axis=1)\n",
    "    except: \n",
    "        pass   \n",
    "\n",
    "for i in range(len(df_hoaly)):\n",
    "    try:\n",
    "        df['Peperine'] = df.apply(lambda x: df_hoaly['Peperine'][i] if ((x['Code2'] == df_hoaly['Sample'][i]) and (abs(x['extract_date_from_filename'] - df_hoaly['Date_HoaLy'][i]).days <= 30)) else x['Peperine'], axis=1)\n",
    "    except: \n",
    "        pass\n",
    "\n",
    "for i in range(len(df_hoaly)):\n",
    "    try:\n",
    "        df['TinhDau'] = df.apply(lambda x: df_hoaly['TinhDau'][i] if ((x['Code2'] == df_hoaly['Sample'][i]) and (abs(x['extract_date_from_filename'] - df_hoaly['Date_HoaLy'][i]).days <= 30)) else x['TinhDau'], axis=1)\n",
    "    except: \n",
    "        pass"
   ]
  },
  {
   "cell_type": "code",
   "execution_count": 9,
   "metadata": {},
   "outputs": [],
   "source": [
    "for i in range(len(df_hoaly)):\n",
    "    df['DoAm'] = df.apply(lambda x: df_hoaly['DoAm'][i] if ((x['Code2'] == df_hoaly['Sample'][i]) and (abs(x['extract_date_from_filename'] - df_hoaly['Date_HoaLy'][i]).days <= 15)) else x['DoAm'], axis=1)\n",
    "    df['TroTong'] = df.apply(lambda x: df_hoaly['TroTong'][i] if ((x['Code2'] == df_hoaly['Sample'][i]) and (abs(x['extract_date_from_filename'] - df_hoaly['Date_HoaLy'][i]).days <= 15)) else x['TroTong'], axis=1)\n",
    "    #df['TroKhongTan'] = df.apply(lambda x: df_hoaly['TroKhongTan'][i] if ((x['Code2'] == df_hoaly['Sample'][i]) and (abs(x['extract_date_from_filename'] - df_hoaly['Date_HoaLy'][i]).days <= 30)) else x['TroKhongTan'], axis=1)\n",
    "    df['Peperine'] = df.apply(lambda x: df_hoaly['Peperine'][i] if ((x['Code2'] == df_hoaly['Sample'][i]) and (abs(x['extract_date_from_filename'] - df_hoaly['Date_HoaLy'][i]).days <= 15)) else x['Peperine'], axis=1)\n",
    "    df['TinhDau'] = df.apply(lambda x: df_hoaly['TinhDau'][i] if ((x['Code2'] == df_hoaly['Sample'][i]) and (abs(x['extract_date_from_filename'] - df_hoaly['Date_HoaLy'][i]).days <= 15)) else x['TinhDau'], axis=1)\n"
   ]
  },
  {
   "cell_type": "code",
   "execution_count": 10,
   "metadata": {},
   "outputs": [],
   "source": [
    "df.to_csv(\"./data/data_match1.csv\", index=False, encoding=\"utf-8-sig\")"
   ]
  },
  {
   "cell_type": "markdown",
   "metadata": {},
   "source": [
    "# Peperine"
   ]
  },
  {
   "cell_type": "code",
   "execution_count": 44,
   "metadata": {},
   "outputs": [],
   "source": [
    "df = pd.read_csv(\"./data/data_match1.csv\")"
   ]
  },
  {
   "cell_type": "code",
   "execution_count": 17,
   "metadata": {},
   "outputs": [
    {
     "data": {
      "text/plain": [
       "45"
      ]
     },
     "execution_count": 17,
     "metadata": {},
     "output_type": "execute_result"
    }
   ],
   "source": [
    "len(df1['Code2'].unique())"
   ]
  },
  {
   "cell_type": "code",
   "execution_count": 49,
   "metadata": {},
   "outputs": [],
   "source": [
    "df1 = df[pd.notna(df['TinhDau'])]"
   ]
  },
  {
   "cell_type": "code",
   "execution_count": 50,
   "metadata": {},
   "outputs": [
    {
     "data": {
      "text/plain": [
       "18358"
      ]
     },
     "execution_count": 50,
     "metadata": {},
     "output_type": "execute_result"
    }
   ],
   "source": [
    "len(df1)"
   ]
  },
  {
   "cell_type": "code",
   "execution_count": 51,
   "metadata": {},
   "outputs": [],
   "source": [
    "df1.to_csv(\"./data/data_NIR_Tinhdau.csv\", encoding=\"utf-8-sig\", index=False)"
   ]
  },
  {
   "cell_type": "code",
   "execution_count": 23,
   "metadata": {},
   "outputs": [],
   "source": [
    "df_hoaly_tinhdau = df_hoaly[pd.notna(df_hoaly['TinhDau'])]"
   ]
  },
  {
   "cell_type": "code",
   "execution_count": 24,
   "metadata": {},
   "outputs": [],
   "source": [
    "arr_code_NIR = df1['Code2'].unique()\n",
    "arr_code_hoaly = df_hoaly_tinhdau['Sample'].unique()"
   ]
  },
  {
   "cell_type": "code",
   "execution_count": 40,
   "metadata": {},
   "outputs": [
    {
     "name": "stdout",
     "output_type": "stream",
     "text": [
      "['1/11/2022' '2/15/2022' '4/18/2022' '11/9/2021' '11/12/2021' '11/15/2021']\n",
      "['1/11/2022' '2/15/2022' '11/9/2021' '11/12/2021' '11/15/2021']\n",
      "      Sample  Date_HoaLy       DoAm   TroTong  TroKhongTan  Piperine  TinhDau\n",
      "31  08297_05  2022-04-18  12.254656  4.572334          NaN  5.710932      3.6\n"
     ]
    }
   ],
   "source": [
    "i = \"08297_05\"\n",
    "\n",
    "print(df[df['Code2'] == i]['extract_date_from_filename'].unique())\n",
    "print(df1[df1['Code2'] == i]['extract_date_from_filename'].unique())\n",
    "print(df_hoaly_tinhdau[df_hoaly_tinhdau['Sample'] == i])"
   ]
  },
  {
   "cell_type": "code",
   "execution_count": 29,
   "metadata": {},
   "outputs": [
    {
     "data": {
      "text/plain": [
       "['08198_20',\n",
       " '08297_05',\n",
       " '02422_04',\n",
       " '02563_02',\n",
       " '02455_03',\n",
       " '02485_05',\n",
       " '02506_01',\n",
       " '08198_19',\n",
       " '08299_13',\n",
       " '08299_14',\n",
       " '08299_15',\n",
       " '08299_16',\n",
       " '00389_01',\n",
       " '08299_12',\n",
       " '00425_02',\n",
       " '00506_05',\n",
       " '00401_16',\n",
       " '06925_15',\n",
       " '00401_17',\n",
       " '00401_18',\n",
       " '06925_13',\n",
       " '02411_06',\n",
       " '02417_10',\n",
       " '00423_04',\n",
       " '08198_02',\n",
       " '08198_05',\n",
       " '08216_01',\n",
       " '08216_03',\n",
       " '08297_04',\n",
       " '08297_06',\n",
       " '08299_07',\n",
       " '08299_08',\n",
       " '08299_09',\n",
       " '08299_10',\n",
       " '08299_11']"
      ]
     },
     "execution_count": 29,
     "metadata": {},
     "output_type": "execute_result"
    }
   ],
   "source": [
    "[x for x in arr_code_NIR if x in arr_code_hoaly]"
   ]
  },
  {
   "cell_type": "code",
   "execution_count": 39,
   "metadata": {},
   "outputs": [
    {
     "data": {
      "text/plain": [
       "array(['1/5/2022', '1/11/2022', '1/18/2022', '2/12/2022', '2/15/2022',\n",
       "       '2/17/2022', '2/28/2022', '3/7/2022', '3/17/2022', '3/24/2022',\n",
       "       '3/29/2022', '4/4/2022', '5/31/2022', '7/1/2022', '11/7/2022',\n",
       "       '4/26/2023', '5/5/2023', '5/16/2023', '5/9/2023', '7/14/2023',\n",
       "       '12/2/2022', '11/9/2021', '11/12/2021', '11/15/2021', '11/16/2021',\n",
       "       '11/23/2021', '12/2/2021'], dtype=object)"
      ]
     },
     "execution_count": 39,
     "metadata": {},
     "output_type": "execute_result"
    }
   ],
   "source": [
    "df1['extract_date_from_filename'].unique()"
   ]
  },
  {
   "cell_type": "code",
   "execution_count": 45,
   "metadata": {},
   "outputs": [],
   "source": [
    "df['extract_date_from_filename'] = df['extract_date_from_filename'].replace({\"1/19/2022\":'1/18/2022',\n",
    "                                                                               \"2/10/2022\":'2/12/2022',\n",
    "                                                                               \"2/18/2022\":'2/17/2022',\n",
    "                                                                                \"3/8/2022\":'3/7/2022',\n",
    "                                                                                \"3/15/2022\":'3/17/2022',\n",
    "                                                                                \"3/18/2022\":'3/17/2022',\n",
    "                                                                                \"3/22/2022\":'3/24/2022',\n",
    "                                                                                \"12/1/2021\":'12/2/2021',\n",
    "                                                                                \"12/4/2021\":'12/2/2021',                                                                   \n",
    "                                                                               })"
   ]
  },
  {
   "cell_type": "code",
   "execution_count": 41,
   "metadata": {},
   "outputs": [
    {
     "name": "stdout",
     "output_type": "stream",
     "text": [
      "08198_20\n",
      "['1/5/2022' '2/12/2022' '3/25/2022']\n",
      "['1/5/2022' '2/12/2022']\n",
      "      Sample  Date_HoaLy       DoAm   TroTong  TroKhongTan  Piperine  TinhDau\n",
      "17  08198_20  2022-03-26  13.803595  3.566194          NaN  4.737441      3.2\n",
      "\n",
      "\n",
      "08297_05\n",
      "['1/11/2022' '2/15/2022' '4/18/2022' '11/9/2021' '11/12/2021' '11/15/2021']\n",
      "['1/11/2022' '2/15/2022' '11/9/2021' '11/12/2021' '11/15/2021']\n",
      "      Sample  Date_HoaLy       DoAm   TroTong  TroKhongTan  Piperine  TinhDau\n",
      "31  08297_05  2022-04-18  12.254656  4.572334          NaN  5.710932      3.6\n",
      "\n",
      "\n",
      "02422_04\n",
      "['1/18/2022' '2/17/2022' '3/7/2022']\n",
      "['1/18/2022' '2/17/2022' '3/7/2022']\n",
      "       Sample  Date_HoaLy       DoAm   TroTong  TroKhongTan  Piperine  TinhDau\n",
      "27   02422_04  2022-01-15  14.714533  3.937817          NaN  5.224666      3.8\n",
      "158  02422_04  2022-03-09  14.146467  3.712632          NaN  4.902765      3.2\n",
      "\n",
      "\n",
      "02563_02\n",
      "['1/18/2022' '2/12/2022' '2/15/2022' '2/28/2022' '3/7/2022']\n",
      "['1/18/2022' '2/12/2022' '2/15/2022' '2/28/2022' '3/7/2022']\n",
      "       Sample  Date_HoaLy       DoAm   TroTong  TroKhongTan  Piperine  TinhDau\n",
      "25   02563_02  2022-01-15  14.644700  3.565117          NaN  3.411950      1.8\n",
      "156  02563_02  2022-03-14  15.005719  3.534842          NaN  3.925257      2.8\n",
      "\n",
      "\n",
      "02455_03\n",
      "['1/5/2022' '1/18/2022' '2/12/2022' '11/29/2022']\n",
      "['2/12/2022']\n",
      "       Sample  Date_HoaLy      DoAm   TroTong  TroKhongTan  Piperine  TinhDau\n",
      "26   02455_03  2022-01-07  15.21215  3.327017          NaN  4.996473      4.0\n",
      "110  02455_03  2022-12-01  15.25630  3.773700          NaN  4.653033      3.6\n",
      "157  02455_03  2022-03-15  13.99078  3.487819          NaN  4.954143      3.6\n",
      "\n",
      "\n",
      "02485_05\n",
      "['1/12/2022' '1/18/2022' '2/12/2022' '2/15/2022' '2/28/2022' '3/17/2022']\n",
      "['2/12/2022' '2/15/2022' '2/28/2022' '3/17/2022']\n",
      "       Sample  Date_HoaLy       DoAm   TroTong  TroKhongTan  Piperine  TinhDau\n",
      "28   02485_05  2022-01-17  14.131300  3.086100          NaN  4.571683      3.2\n",
      "159  02485_05  2022-03-16  12.938749  3.204299          NaN  4.652074      2.8\n",
      "\n",
      "\n",
      "02506_01\n",
      "['1/5/2022' '1/18/2022' '2/12/2022' '2/17/2022']\n",
      "['2/12/2022' '2/17/2022']\n",
      "      Sample  Date_HoaLy       DoAm  TroTong  TroKhongTan  Piperine  TinhDau\n",
      "24  02506_01  2022-01-13  14.796317   4.0977          NaN    5.3155      3.2\n",
      "\n",
      "\n",
      "08198_19\n",
      "['2/15/2022']\n",
      "['2/15/2022']\n",
      "      Sample  Date_HoaLy    DoAm   TroTong  TroKhongTan  Piperine  TinhDau\n",
      "16  08198_19  2022-02-18  11.921  4.508917     0.250233    5.6504      2.8\n",
      "\n",
      "\n",
      "08299_13\n",
      "['2/17/2022' '12/10/2021' '12/2/2021' '12/12/2021']\n",
      "['2/17/2022']\n",
      "      Sample  Date_HoaLy       DoAm   TroTong  TroKhongTan  Piperine  TinhDau\n",
      "10  08299_13  2021-12-13  13.344267  4.233433     0.108033    4.8269      2.8\n",
      "\n",
      "\n",
      "08299_14\n",
      "['2/17/2022' '12/24/2021' '11/23/2021' '12/2/2021' '12/12/2021']\n",
      "['2/17/2022' '11/23/2021']\n",
      "      Sample  Date_HoaLy       DoAm   TroTong  TroKhongTan  Piperine  TinhDau\n",
      "11  08299_14  2021-12-15  13.298667  4.327867        0.366    5.2686      3.2\n",
      "\n",
      "\n",
      "08299_15\n",
      "['2/17/2022' '12/24/2021' '12/2/2021' '12/12/2021']\n",
      "['2/17/2022']\n",
      "      Sample  Date_HoaLy       DoAm   TroTong  TroKhongTan  Piperine  TinhDau\n",
      "12  08299_15  2021-12-18  12.012967  4.251667     0.149733    5.9174      3.0\n",
      "\n",
      "\n",
      "08299_16\n",
      "['2/17/2022' '12/24/2021' '11/23/2021' '12/2/2021' '12/12/2021']\n",
      "['2/17/2022' '11/23/2021' '12/2/2021']\n",
      "      Sample  Date_HoaLy       DoAm   TroTong  TroKhongTan  Piperine  TinhDau\n",
      "13  08299_16  2021-12-20  15.665133  3.768633     0.139467   4.81557      2.8\n",
      "\n",
      "\n",
      "00389_01\n",
      "['2/17/2022' '3/17/2022' '12/24/2021' '12/2/2021' '12/12/2021']\n",
      "['2/17/2022' '3/17/2022' '12/2/2021']\n",
      "       Sample  Date_HoaLy       DoAm   TroTong  TroKhongTan  Piperine  TinhDau\n",
      "18   00389_01  2021-12-23  10.853422  3.749436     0.210867  5.475872      3.2\n",
      "155  00389_01  2022-03-18  12.739214  3.502214          NaN  5.747815      3.2\n",
      "\n",
      "\n",
      "08299_12\n",
      "['2/17/2022' '12/10/2021' '11/23/2021' '12/2/2021' '12/12/2021']\n",
      "['2/17/2022' '11/23/2021']\n",
      "     Sample  Date_HoaLy       DoAm  TroTong  TroKhongTan  Piperine  TinhDau\n",
      "9  08299_12  2021-12-10  12.882067   4.5202     0.411467    5.7964      2.8\n",
      "\n",
      "\n",
      "00425_02\n",
      "['1/11/2022' '3/17/2022' '3/24/2022' '11/9/2021' '11/12/2021' '11/15/2021'\n",
      " '12/2/2021']\n",
      "['3/17/2022' '3/24/2022' '11/9/2021' '11/12/2021' '11/15/2021' '12/2/2021']\n",
      "     Sample  Date_HoaLy       DoAm  TroTong  TroKhongTan  Piperine  TinhDau\n",
      "0  00425_02  2022-01-20  14.575133  3.44335          NaN    4.3154      2.8\n",
      "\n",
      "\n",
      "00506_05\n",
      "['3/17/2022' '11/9/2021' '11/12/2021' '12/6/2021']\n",
      "['3/17/2022' '11/9/2021']\n",
      "       Sample  Date_HoaLy       DoAm   TroTong  TroKhongTan  Piperine  TinhDau\n",
      "2    00506_05  2021-11-27  11.958533  3.628167     0.086767    4.7161      2.6\n",
      "154  00506_05  2021-12-06  13.567000  3.374467          NaN    4.7090      2.4\n",
      "\n",
      "\n",
      "00401_16\n",
      "['4/26/2023' '5/5/2023']\n",
      "['4/26/2023' '5/5/2023']\n",
      "       Sample  Date_HoaLy       DoAm  TroTong  TroKhongTan  Piperine  TinhDau\n",
      "140  00401_16  2023-08-05  13.111133   3.8798          NaN  4.850009      3.0\n",
      "\n",
      "\n",
      "06925_15\n",
      "['5/5/2023']\n",
      "['5/5/2023']\n",
      "       Sample  Date_HoaLy     DoAm   TroTong  TroKhongTan  Piperine  TinhDau\n",
      "139  06925_15  2023-06-05  12.6507  3.983067          NaN  5.020408      3.2\n",
      "\n",
      "\n",
      "00401_17\n",
      "['5/9/2023']\n",
      "['5/9/2023']\n",
      "       Sample  Date_HoaLy       DoAm   TroTong  TroKhongTan  Piperine  TinhDau\n",
      "142  00401_17  2023-11-05  14.233267  3.461067          NaN  5.290783      3.6\n",
      "\n",
      "\n",
      "00401_18\n",
      "['5/9/2023']\n",
      "['5/9/2023']\n",
      "       Sample  Date_HoaLy       DoAm   TroTong  TroKhongTan  Piperine  TinhDau\n",
      "143  00401_18  2023-12-05  14.637333  3.815667          NaN  5.546584      3.8\n",
      "\n",
      "\n",
      "06925_13\n",
      "['5/9/2023']\n",
      "['5/9/2023']\n",
      "       Sample  Date_HoaLy   DoAm   TroTong  TroKhongTan  Piperine  TinhDau\n",
      "141  06925_13  2023-10-05  14.76  3.459533          NaN  5.337209      3.7\n",
      "\n",
      "\n",
      "02411_06\n",
      "['7/14/2023']\n",
      "['7/14/2023']\n",
      "       Sample  Date_HoaLy     DoAm  TroTong  TroKhongTan  Piperine  TinhDau\n",
      "151  02411_06  2023-06-26  13.4598   4.1569          NaN    5.2922     2.92\n",
      "\n",
      "\n",
      "02417_10\n",
      "['7/14/2023']\n",
      "['7/14/2023']\n",
      "       Sample  Date_HoaLy     DoAm  TroTong  TroKhongTan  Piperine  TinhDau\n",
      "150  02417_10  2023-06-24  14.3825   4.0468          NaN    5.3451      3.0\n",
      "\n",
      "\n",
      "00423_04\n",
      "['11/9/2021' '11/12/2021' '11/15/2021' '12/6/2021']\n",
      "['11/9/2021' '11/12/2021' '11/15/2021']\n",
      "     Sample  Date_HoaLy       DoAm   TroTong  TroKhongTan  Piperine  TinhDau\n",
      "1  00423_04  2021-12-02  14.529467  4.355533     0.432867    4.5909      2.6\n",
      "\n",
      "\n",
      "08198_02\n",
      "['4/14/2022' '11/9/2021' '11/12/2021' '11/15/2021']\n",
      "['11/9/2021' '11/12/2021' '11/15/2021']\n",
      "      Sample  Date_HoaLy       DoAm   TroTong  TroKhongTan  Piperine  TinhDau\n",
      "33  08198_02  2022-04-14  11.035771  3.671709          NaN  4.444072      3.2\n",
      "\n",
      "\n",
      "08198_05\n",
      "['4/4/2022' '11/9/2021' '11/12/2021']\n",
      "['11/9/2021' '11/12/2021']\n",
      "      Sample  Date_HoaLy      DoAm   TroTong  TroKhongTan  Piperine  TinhDau\n",
      "34  08198_05  2022-04-06  12.10665  4.107493          NaN  4.760019      3.2\n",
      "\n",
      "\n",
      "08216_01\n",
      "['11/9/2021' '11/12/2021' '11/15/2021']\n",
      "['11/9/2021']\n",
      "     Sample  Date_HoaLy     DoAm   TroTong  TroKhongTan  Piperine  TinhDau\n",
      "3  08216_01  2021-11-26  11.2574  4.644333     0.306867    4.8491      2.8\n",
      "\n",
      "\n",
      "08216_03\n",
      "['4/7/2022' '11/9/2021' '11/12/2021']\n",
      "['11/9/2021' '11/12/2021']\n",
      "      Sample  Date_HoaLy       DoAm   TroTong  TroKhongTan  Piperine  TinhDau\n",
      "29  08216_03  2022-04-09  12.058839  4.156065          NaN  4.423535      3.2\n",
      "\n",
      "\n",
      "08297_04\n",
      "['4/4/2022' '11/9/2021' '11/12/2021' '11/16/2021']\n",
      "['11/9/2021' '11/12/2021' '11/16/2021']\n",
      "      Sample  Date_HoaLy       DoAm  TroTong  TroKhongTan  Piperine  TinhDau\n",
      "30  08297_04  2022-04-05  12.958179  4.21136          NaN  4.614443      3.2\n",
      "\n",
      "\n",
      "08297_06\n",
      "['4/19/2022' '11/9/2021' '11/12/2021' '11/16/2021']\n",
      "['11/9/2021' '11/12/2021' '11/16/2021']\n",
      "      Sample  Date_HoaLy       DoAm   TroTong  TroKhongTan  Piperine  TinhDau\n",
      "32  08297_06  2022-04-07  11.762475  4.274379          NaN  4.570488      3.6\n",
      "\n",
      "\n",
      "08299_07\n",
      "['11/9/2021' '11/12/2021' '11/15/2021']\n",
      "['11/9/2021' '11/12/2021']\n",
      "     Sample  Date_HoaLy     DoAm  TroTong  TroKhongTan  Piperine  TinhDau\n",
      "4  08299_07  2021-11-29  11.4062   4.3037       0.2134  4.673633      3.0\n",
      "\n",
      "\n",
      "08299_08\n",
      "['3/30/2022' '11/9/2021' '11/12/2021']\n",
      "['11/9/2021' '11/12/2021']\n",
      "     Sample  Date_HoaLy     DoAm  TroTong  TroKhongTan  Piperine  TinhDau\n",
      "5  08299_08  2022-04-02  12.1096   3.9051          NaN    4.8354      3.9\n",
      "\n",
      "\n",
      "08299_09\n",
      "['3/28/2022' '11/9/2021' '11/12/2021']\n",
      "['11/9/2021' '11/12/2021']\n",
      "     Sample  Date_HoaLy     DoAm  TroTong  TroKhongTan  Piperine  TinhDau\n",
      "6  08299_09  2022-03-29  11.6801   3.8812          NaN    4.8941      3.2\n",
      "\n",
      "\n",
      "08299_10\n",
      "['11/9/2021' '11/12/2021' '11/16/2021']\n",
      "['11/9/2021' '11/12/2021']\n",
      "     Sample  Date_HoaLy     DoAm   TroTong  TroKhongTan  Piperine  TinhDau\n",
      "7  08299_10  2021-12-01  11.1378  4.157167       0.2015    5.4835      3.0\n",
      "\n",
      "\n",
      "08299_11\n",
      "['3/30/2022' '11/9/2021' '11/12/2021' '11/16/2021']\n",
      "['11/9/2021' '11/12/2021' '11/16/2021']\n",
      "     Sample  Date_HoaLy    DoAm  TroTong  TroKhongTan  Piperine  TinhDau\n",
      "8  08299_11  2022-04-01  11.468   3.9778          NaN    4.4146      3.2\n",
      "\n",
      "\n"
     ]
    }
   ],
   "source": [
    "for i in a:\n",
    "    print(i)\n",
    "    print(df[df['Code2'] == i]['extract_date_from_filename'].unique())\n",
    "    print(df1[df1['Code2'] == i]['extract_date_from_filename'].unique())\n",
    "    print(df_hoaly_tinhdau[df_hoaly_tinhdau['Sample'] == i])\n",
    "    print(\"\\n\")"
   ]
  },
  {
   "cell_type": "code",
   "execution_count": null,
   "metadata": {},
   "outputs": [],
   "source": []
  },
  {
   "cell_type": "code",
   "execution_count": null,
   "metadata": {},
   "outputs": [],
   "source": []
  },
  {
   "cell_type": "code",
   "execution_count": 11,
   "metadata": {},
   "outputs": [
    {
     "data": {
      "text/plain": [
       "array(['08198_20', '08198_01', '08216_02', '08297_05', '02422_04',\n",
       "       '02563_02', '02455_03', '02485_05', '02506_01', '08198_19',\n",
       "       '08299_13', '08299_14', '08299_15', '08299_16', '00389_01',\n",
       "       '08299_12', '00425_02', '00506_05', '08298_06', '00898_23',\n",
       "       '00871_01', '00373_08', '00401_16', '06925_15', '00401_22',\n",
       "       '00401_17', '00401_18', '06925_13', '02411_06', '02417_10',\n",
       "       '02469_32', '00423_04', '00523_01', '00534_03', '08198_02',\n",
       "       '08198_05', '08216_01', '08216_03', '08297_04', '08297_06',\n",
       "       '08299_07', '08299_08', '08299_09', '08299_10', '08299_11'],\n",
       "      dtype=object)"
      ]
     },
     "execution_count": 11,
     "metadata": {},
     "output_type": "execute_result"
    }
   ],
   "source": [
    "df[pd.isnull(df['Peperine'])]['Code2'].unique()"
   ]
  },
  {
   "cell_type": "code",
   "execution_count": null,
   "metadata": {},
   "outputs": [],
   "source": [
    "arr_code_NIR = df['Code2'].unique()\n",
    "arr_code_hoaly = df_hoaly['Sample'].unique()"
   ]
  },
  {
   "cell_type": "code",
   "execution_count": 14,
   "metadata": {},
   "outputs": [
    {
     "data": {
      "text/plain": [
       "array(['00425_02', '00423_04', '00506_05', '08216_01', '08299_07',\n",
       "       '08299_08', '08299_09', '08299_10', '08299_11', '08299_12',\n",
       "       '08299_13', '08299_14', '08299_15', '08299_16', '08201_17',\n",
       "       '08198_18', '08198_19', '08198_20', '00389_01', '00398_02',\n",
       "       '00389_03', '00389_04', '00389_05', '00389_06', '02506_01',\n",
       "       '02563_02', '02455_03', '02422_04', '02485_05', '08216_03',\n",
       "       '08297_04', '08297_05', '08297_06', '08198_02', '08198_05',\n",
       "       '08198_04', '00855_10', '00856_14', '00141_28', '00110_11',\n",
       "       '00110_13', '03682_17', '00104_19', '00098_20', '00893_35',\n",
       "       '03682_18', '00507_21', '07338_18', '00108_05', '00108_04',\n",
       "       '00850_04', '00109_02', '00893_24', '00213_10', '00110_12',\n",
       "       '00850_11', '00871_02', '00110_06', '00855_09', '00843_13',\n",
       "       '00854_15', '07338_19', '00507_20', '00072_22', '00141_27',\n",
       "       '00141_29', '00825_30', '00142_31', '00107_14', '00847_33',\n",
       "       '00893_34', '00893_36', '00867_03', '00373_05', '00373_06',\n",
       "       '00373_07', '03682_01', '00108_03', '00125_16', '00111_07',\n",
       "       '00846_12', '00905_16', '07338_17', '00857_32', '00125_15',\n",
       "       '00426_07', '00527_11', '00525_12', '00537_13', '00539_15',\n",
       "       '00402_07', '00397_08', '00389_09', '00400_10', '00402_11',\n",
       "       '00400_12', '00426_01', '00373_01', '00141_25', '00532_08',\n",
       "       '00527_06', '00527_14', '00542_16', '00528_09', '02649_21',\n",
       "       '02649_31', '02649_23', '00457_17', '02649_34', '02649_33',\n",
       "       '02649_26', '02649_27', '02649_32', '02649_37', '02649_36',\n",
       "       '02649_24', '02649_30', '02649_25', '02649_40', '02649_38',\n",
       "       '02649_35', '02649_22', '02649_28', '02649_39', '02649_29',\n",
       "       '00452_10', '00506_18', '00559_23', '02255_24', '00506_22',\n",
       "       '00559_19', '02255_25', '02255_26', '00506_20', '06925_14',\n",
       "       '06925_15', '00401_16', '06925_13', '00401_17', '00401_18',\n",
       "       '00401_19', '00401_20', '00401_21', '08406_21', '02415_07',\n",
       "       '02422_09', '02417_10', '02411_06', '02411_08', '02415_11'],\n",
       "      dtype=object)"
      ]
     },
     "execution_count": 14,
     "metadata": {},
     "output_type": "execute_result"
    }
   ],
   "source": [
    "df_hoaly_piperine['Sample'].unique()"
   ]
  },
  {
   "cell_type": "code",
   "execution_count": 15,
   "metadata": {},
   "outputs": [],
   "source": [
    "df_hoaly_piperine = df_hoaly[pd.notnull(df_hoaly['Peperine'])]\n"
   ]
  },
  {
   "cell_type": "code",
   "execution_count": 138,
   "metadata": {},
   "outputs": [
    {
     "data": {
      "text/html": [
       "<div>\n",
       "<style scoped>\n",
       "    .dataframe tbody tr th:only-of-type {\n",
       "        vertical-align: middle;\n",
       "    }\n",
       "\n",
       "    .dataframe tbody tr th {\n",
       "        vertical-align: top;\n",
       "    }\n",
       "\n",
       "    .dataframe thead th {\n",
       "        text-align: right;\n",
       "    }\n",
       "</style>\n",
       "<table border=\"1\" class=\"dataframe\">\n",
       "  <thead>\n",
       "    <tr style=\"text-align: right;\">\n",
       "      <th></th>\n",
       "      <th>Sample</th>\n",
       "      <th>Date_HoaLy</th>\n",
       "      <th>DoAm</th>\n",
       "      <th>TroTong</th>\n",
       "      <th>Peperine</th>\n",
       "      <th>TinhDau</th>\n",
       "    </tr>\n",
       "  </thead>\n",
       "  <tbody>\n",
       "  </tbody>\n",
       "</table>\n",
       "</div>"
      ],
      "text/plain": [
       "Empty DataFrame\n",
       "Columns: [Sample, Date_HoaLy, DoAm, TroTong, Peperine, TinhDau]\n",
       "Index: []"
      ]
     },
     "execution_count": 138,
     "metadata": {},
     "output_type": "execute_result"
    }
   ],
   "source": [
    "df_hoaly_piperine[df_hoaly_piperine['Sample'] == '08297_05']"
   ]
  },
  {
   "cell_type": "code",
   "execution_count": 136,
   "metadata": {},
   "outputs": [
    {
     "data": {
      "text/plain": [
       "array([datetime.date(2022, 1, 5), datetime.date(2022, 2, 12),\n",
       "       datetime.date(2022, 3, 25)], dtype=object)"
      ]
     },
     "execution_count": 136,
     "metadata": {},
     "output_type": "execute_result"
    }
   ],
   "source": [
    "df[df['Code2'] == '08198_20']['extract_date_from_filename'].unique()"
   ]
  },
  {
   "cell_type": "code",
   "execution_count": null,
   "metadata": {},
   "outputs": [],
   "source": []
  }
 ],
 "metadata": {
  "kernelspec": {
   "display_name": "Python 3",
   "language": "python",
   "name": "python3"
  },
  "language_info": {
   "codemirror_mode": {
    "name": "ipython",
    "version": 3
   },
   "file_extension": ".py",
   "mimetype": "text/x-python",
   "name": "python",
   "nbconvert_exporter": "python",
   "pygments_lexer": "ipython3",
   "version": "3.12.2"
  }
 },
 "nbformat": 4,
 "nbformat_minor": 2
}
